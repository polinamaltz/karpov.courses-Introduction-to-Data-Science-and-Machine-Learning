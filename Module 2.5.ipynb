{
 "cells": [
  {
   "cell_type": "code",
   "execution_count": 97,
   "id": "spectacular-paradise",
   "metadata": {},
   "outputs": [],
   "source": [
    "from sklearn import tree\n",
    "import numpy as np\n",
    "import pandas as pd\n",
    "import seaborn as sns\n",
    "from matplotlib import pyplot as plt\n",
    "%matplotlib inline\n",
    "from sklearn.model_selection import train_test_split\n",
    "from sklearn.model_selection import cross_val_score\n",
    "from sklearn.metrics import precision_score\n",
    "from sklearn import preprocessing"
   ]
  },
  {
   "cell_type": "code",
   "execution_count": 98,
   "id": "stretch-render",
   "metadata": {},
   "outputs": [
    {
     "data": {
      "text/html": [
       "<style>svg{width: 70% !important; height: 60% !important;} </style>"
      ],
      "text/plain": [
       "<IPython.core.display.HTML object>"
      ]
     },
     "execution_count": 98,
     "metadata": {},
     "output_type": "execute_result"
    }
   ],
   "source": [
    "from IPython.display import SVG\n",
    "from graphviz import Source\n",
    "from IPython.display import display\n",
    "from IPython.display import HTML\n",
    "style = \"<style>svg{width: 70% !important; height: 60% !important;} </style>\" \n",
    "HTML(style)"
   ]
  },
  {
   "cell_type": "code",
   "execution_count": 99,
   "id": "respiratory-material",
   "metadata": {},
   "outputs": [],
   "source": [
    "#pd.get_dummies(X)"
   ]
  },
  {
   "cell_type": "code",
   "execution_count": 100,
   "id": "authentic-protection",
   "metadata": {},
   "outputs": [],
   "source": [
    "TP = 15 \n",
    "FP = 30\n",
    "FN = 15 \n",
    "TN = 40"
   ]
  },
  {
   "cell_type": "code",
   "execution_count": 101,
   "id": "invalid-wichita",
   "metadata": {},
   "outputs": [],
   "source": [
    "# precison\n",
    "pr = np.round(TP/(TP+FP), 1)"
   ]
  },
  {
   "cell_type": "code",
   "execution_count": 102,
   "id": "textile-ground",
   "metadata": {},
   "outputs": [],
   "source": [
    "# recall\n",
    "rec = np.round(TP/(TP+FN), 1)"
   ]
  },
  {
   "cell_type": "code",
   "execution_count": 103,
   "id": "small-reader",
   "metadata": {},
   "outputs": [
    {
     "data": {
      "text/plain": [
       "0.3"
      ]
     },
     "execution_count": 103,
     "metadata": {},
     "output_type": "execute_result"
    }
   ],
   "source": [
    "pr"
   ]
  },
  {
   "cell_type": "code",
   "execution_count": 104,
   "id": "shared-kentucky",
   "metadata": {},
   "outputs": [
    {
     "data": {
      "text/plain": [
       "0.5"
      ]
     },
     "execution_count": 104,
     "metadata": {},
     "output_type": "execute_result"
    }
   ],
   "source": [
    "rec"
   ]
  },
  {
   "cell_type": "code",
   "execution_count": 105,
   "id": "judicial-reach",
   "metadata": {},
   "outputs": [],
   "source": [
    "# F1\n",
    "F1 = np.round(2*pr*rec/(pr+rec),1)"
   ]
  },
  {
   "cell_type": "code",
   "execution_count": 106,
   "id": "smaller-principal",
   "metadata": {},
   "outputs": [
    {
     "data": {
      "text/plain": [
       "0.4"
      ]
     },
     "execution_count": 106,
     "metadata": {},
     "output_type": "execute_result"
    }
   ],
   "source": [
    "F1"
   ]
  },
  {
   "cell_type": "code",
   "execution_count": 228,
   "id": "heavy-adrian",
   "metadata": {},
   "outputs": [],
   "source": [
    "songs = pd.read_csv('https://stepik.org/media/attachments/course/4852/songs.csv')"
   ]
  },
  {
   "cell_type": "code",
   "execution_count": 229,
   "id": "beneficial-midwest",
   "metadata": {},
   "outputs": [
    {
     "data": {
      "text/html": [
       "<div>\n",
       "<style scoped>\n",
       "    .dataframe tbody tr th:only-of-type {\n",
       "        vertical-align: middle;\n",
       "    }\n",
       "\n",
       "    .dataframe tbody tr th {\n",
       "        vertical-align: top;\n",
       "    }\n",
       "\n",
       "    .dataframe thead th {\n",
       "        text-align: right;\n",
       "    }\n",
       "</style>\n",
       "<table border=\"1\" class=\"dataframe\">\n",
       "  <thead>\n",
       "    <tr style=\"text-align: right;\">\n",
       "      <th></th>\n",
       "      <th>song</th>\n",
       "      <th>year</th>\n",
       "      <th>artist</th>\n",
       "      <th>genre</th>\n",
       "      <th>lyrics</th>\n",
       "      <th>length</th>\n",
       "      <th>commas</th>\n",
       "      <th>exclamations</th>\n",
       "      <th>colons</th>\n",
       "      <th>hyphens</th>\n",
       "    </tr>\n",
       "  </thead>\n",
       "  <tbody>\n",
       "    <tr>\n",
       "      <th>0</th>\n",
       "      <td>the-ownerz</td>\n",
       "      <td>2007</td>\n",
       "      <td>gangstarr</td>\n",
       "      <td>Hip-Hop</td>\n",
       "      <td>\"One-two..\"\\n\"One-two, shots to the chin.. kno...</td>\n",
       "      <td>1300</td>\n",
       "      <td>24</td>\n",
       "      <td>5</td>\n",
       "      <td>0</td>\n",
       "      <td>11</td>\n",
       "    </tr>\n",
       "    <tr>\n",
       "      <th>1</th>\n",
       "      <td>dead-sound-of-misery</td>\n",
       "      <td>2006</td>\n",
       "      <td>blind-guardian</td>\n",
       "      <td>Metal</td>\n",
       "      <td>It's dark\\nLet's do it now\\nBring in the siren...</td>\n",
       "      <td>1566</td>\n",
       "      <td>0</td>\n",
       "      <td>0</td>\n",
       "      <td>0</td>\n",
       "      <td>0</td>\n",
       "    </tr>\n",
       "    <tr>\n",
       "      <th>2</th>\n",
       "      <td>modred-s-song</td>\n",
       "      <td>2006</td>\n",
       "      <td>blind-guardian</td>\n",
       "      <td>Metal</td>\n",
       "      <td>I've lost my battle before it starts\\nmy first...</td>\n",
       "      <td>996</td>\n",
       "      <td>1</td>\n",
       "      <td>0</td>\n",
       "      <td>1</td>\n",
       "      <td>0</td>\n",
       "    </tr>\n",
       "    <tr>\n",
       "      <th>3</th>\n",
       "      <td>the-ninth-wave</td>\n",
       "      <td>2015</td>\n",
       "      <td>blind-guardian</td>\n",
       "      <td>Metal</td>\n",
       "      <td>As dark night embraces\\nWe are the nation\\nI w...</td>\n",
       "      <td>2868</td>\n",
       "      <td>5</td>\n",
       "      <td>0</td>\n",
       "      <td>0</td>\n",
       "      <td>0</td>\n",
       "    </tr>\n",
       "    <tr>\n",
       "      <th>4</th>\n",
       "      <td>skills</td>\n",
       "      <td>2014</td>\n",
       "      <td>gangstarr</td>\n",
       "      <td>Hip-Hop</td>\n",
       "      <td>Skills, skills, skills\\n\"My Microphone\"\\n\"It's...</td>\n",
       "      <td>3351</td>\n",
       "      <td>22</td>\n",
       "      <td>0</td>\n",
       "      <td>0</td>\n",
       "      <td>3</td>\n",
       "    </tr>\n",
       "  </tbody>\n",
       "</table>\n",
       "</div>"
      ],
      "text/plain": [
       "                   song  year          artist    genre  \\\n",
       "0            the-ownerz  2007       gangstarr  Hip-Hop   \n",
       "1  dead-sound-of-misery  2006  blind-guardian    Metal   \n",
       "2         modred-s-song  2006  blind-guardian    Metal   \n",
       "3        the-ninth-wave  2015  blind-guardian    Metal   \n",
       "4                skills  2014       gangstarr  Hip-Hop   \n",
       "\n",
       "                                              lyrics  length  commas  \\\n",
       "0  \"One-two..\"\\n\"One-two, shots to the chin.. kno...    1300      24   \n",
       "1  It's dark\\nLet's do it now\\nBring in the siren...    1566       0   \n",
       "2  I've lost my battle before it starts\\nmy first...     996       1   \n",
       "3  As dark night embraces\\nWe are the nation\\nI w...    2868       5   \n",
       "4  Skills, skills, skills\\n\"My Microphone\"\\n\"It's...    3351      22   \n",
       "\n",
       "   exclamations  colons  hyphens  \n",
       "0             5       0       11  \n",
       "1             0       0        0  \n",
       "2             0       1        0  \n",
       "3             0       0        0  \n",
       "4             0       0        3  "
      ]
     },
     "execution_count": 229,
     "metadata": {},
     "output_type": "execute_result"
    }
   ],
   "source": [
    "songs.head()"
   ]
  },
  {
   "cell_type": "code",
   "execution_count": 234,
   "id": "accessible-purchase",
   "metadata": {},
   "outputs": [],
   "source": [
    "X = songs.drop(['artist', 'lyrics', 'genre','song'], axis = 1)"
   ]
  },
  {
   "cell_type": "code",
   "execution_count": 235,
   "id": "color-duncan",
   "metadata": {},
   "outputs": [],
   "source": [
    "y = le.fit_transform(songs.artist)"
   ]
  },
  {
   "cell_type": "code",
   "execution_count": 236,
   "id": "sound-anxiety",
   "metadata": {},
   "outputs": [
    {
     "data": {
      "text/html": [
       "<div>\n",
       "<style scoped>\n",
       "    .dataframe tbody tr th:only-of-type {\n",
       "        vertical-align: middle;\n",
       "    }\n",
       "\n",
       "    .dataframe tbody tr th {\n",
       "        vertical-align: top;\n",
       "    }\n",
       "\n",
       "    .dataframe thead th {\n",
       "        text-align: right;\n",
       "    }\n",
       "</style>\n",
       "<table border=\"1\" class=\"dataframe\">\n",
       "  <thead>\n",
       "    <tr style=\"text-align: right;\">\n",
       "      <th></th>\n",
       "      <th>year</th>\n",
       "      <th>length</th>\n",
       "      <th>commas</th>\n",
       "      <th>exclamations</th>\n",
       "      <th>colons</th>\n",
       "      <th>hyphens</th>\n",
       "    </tr>\n",
       "  </thead>\n",
       "  <tbody>\n",
       "    <tr>\n",
       "      <th>0</th>\n",
       "      <td>2007</td>\n",
       "      <td>1300</td>\n",
       "      <td>24</td>\n",
       "      <td>5</td>\n",
       "      <td>0</td>\n",
       "      <td>11</td>\n",
       "    </tr>\n",
       "    <tr>\n",
       "      <th>1</th>\n",
       "      <td>2006</td>\n",
       "      <td>1566</td>\n",
       "      <td>0</td>\n",
       "      <td>0</td>\n",
       "      <td>0</td>\n",
       "      <td>0</td>\n",
       "    </tr>\n",
       "    <tr>\n",
       "      <th>2</th>\n",
       "      <td>2006</td>\n",
       "      <td>996</td>\n",
       "      <td>1</td>\n",
       "      <td>0</td>\n",
       "      <td>1</td>\n",
       "      <td>0</td>\n",
       "    </tr>\n",
       "    <tr>\n",
       "      <th>3</th>\n",
       "      <td>2015</td>\n",
       "      <td>2868</td>\n",
       "      <td>5</td>\n",
       "      <td>0</td>\n",
       "      <td>0</td>\n",
       "      <td>0</td>\n",
       "    </tr>\n",
       "    <tr>\n",
       "      <th>4</th>\n",
       "      <td>2014</td>\n",
       "      <td>3351</td>\n",
       "      <td>22</td>\n",
       "      <td>0</td>\n",
       "      <td>0</td>\n",
       "      <td>3</td>\n",
       "    </tr>\n",
       "  </tbody>\n",
       "</table>\n",
       "</div>"
      ],
      "text/plain": [
       "   year  length  commas  exclamations  colons  hyphens\n",
       "0  2007    1300      24             5       0       11\n",
       "1  2006    1566       0             0       0        0\n",
       "2  2006     996       1             0       1        0\n",
       "3  2015    2868       5             0       0        0\n",
       "4  2014    3351      22             0       0        3"
      ]
     },
     "execution_count": 236,
     "metadata": {},
     "output_type": "execute_result"
    }
   ],
   "source": [
    "X.head()"
   ]
  },
  {
   "cell_type": "code",
   "execution_count": 239,
   "id": "positive-gabriel",
   "metadata": {},
   "outputs": [],
   "source": [
    "clf = tree.DecisionTreeClassifier(random_state = 42)"
   ]
  },
  {
   "cell_type": "code",
   "execution_count": 240,
   "id": "bridal-acceptance",
   "metadata": {},
   "outputs": [],
   "source": [
    "X_train, X_test, y_train, y_test = train_test_split(X, y, train_size = 0.66)"
   ]
  },
  {
   "cell_type": "code",
   "execution_count": 241,
   "id": "sunrise-return",
   "metadata": {},
   "outputs": [
    {
     "data": {
      "text/plain": [
       "(237, 6)"
      ]
     },
     "execution_count": 241,
     "metadata": {},
     "output_type": "execute_result"
    }
   ],
   "source": [
    "X_train.shape"
   ]
  },
  {
   "cell_type": "code",
   "execution_count": 242,
   "id": "color-welding",
   "metadata": {},
   "outputs": [
    {
     "data": {
      "text/plain": [
       "(123, 6)"
      ]
     },
     "execution_count": 242,
     "metadata": {},
     "output_type": "execute_result"
    }
   ],
   "source": [
    "X_test.shape"
   ]
  },
  {
   "cell_type": "code",
   "execution_count": 243,
   "id": "understanding-iceland",
   "metadata": {},
   "outputs": [
    {
     "data": {
      "text/plain": [
       "(237,)"
      ]
     },
     "execution_count": 243,
     "metadata": {},
     "output_type": "execute_result"
    }
   ],
   "source": [
    "y_train.shape"
   ]
  },
  {
   "cell_type": "code",
   "execution_count": 244,
   "id": "hispanic-watts",
   "metadata": {},
   "outputs": [
    {
     "data": {
      "text/plain": [
       "(123,)"
      ]
     },
     "execution_count": 244,
     "metadata": {},
     "output_type": "execute_result"
    }
   ],
   "source": [
    "y_test.shape"
   ]
  },
  {
   "cell_type": "code",
   "execution_count": 245,
   "id": "ordered-presence",
   "metadata": {},
   "outputs": [
    {
     "data": {
      "text/plain": [
       "DecisionTreeClassifier(random_state=42)"
      ]
     },
     "execution_count": 245,
     "metadata": {},
     "output_type": "execute_result"
    }
   ],
   "source": [
    "clf.fit(X_train, y_train)"
   ]
  },
  {
   "cell_type": "code",
   "execution_count": 247,
   "id": "reduced-interest",
   "metadata": {},
   "outputs": [],
   "source": [
    "predictions = clf.predict(X_test)"
   ]
  },
  {
   "cell_type": "code",
   "execution_count": 249,
   "id": "alone-destiny",
   "metadata": {},
   "outputs": [
    {
     "data": {
      "text/plain": [
       "array(['abba', 'blind-guardian', 'gangstarr', 'abba', 'gangstarr',\n",
       "       'gangstarr', 'abba', 'abba', 'abba', 'gangstarr', 'blind-guardian',\n",
       "       'gangstarr', 'abba', 'abba', 'gangstarr', 'blind-guardian', 'abba',\n",
       "       'abba', 'abba', 'blind-guardian', 'blind-guardian', 'gangstarr',\n",
       "       'gangstarr', 'blind-guardian', 'blind-guardian', 'gangstarr',\n",
       "       'abba', 'gangstarr', 'abba', 'blind-guardian', 'abba', 'gangstarr',\n",
       "       'abba', 'gangstarr', 'gangstarr', 'gangstarr', 'blind-guardian',\n",
       "       'gangstarr', 'blind-guardian', 'blind-guardian', 'gangstarr',\n",
       "       'gangstarr', 'abba', 'abba', 'abba', 'blind-guardian',\n",
       "       'blind-guardian', 'blind-guardian', 'blind-guardian', 'abba',\n",
       "       'blind-guardian', 'gangstarr', 'gangstarr', 'abba', 'gangstarr',\n",
       "       'gangstarr', 'abba', 'blind-guardian', 'abba', 'gangstarr',\n",
       "       'gangstarr', 'abba', 'gangstarr', 'gangstarr', 'blind-guardian',\n",
       "       'gangstarr', 'gangstarr', 'gangstarr', 'gangstarr', 'abba',\n",
       "       'gangstarr', 'abba', 'abba', 'abba', 'abba', 'blind-guardian',\n",
       "       'blind-guardian', 'gangstarr', 'blind-guardian', 'abba',\n",
       "       'blind-guardian', 'blind-guardian', 'abba', 'blind-guardian',\n",
       "       'blind-guardian', 'gangstarr', 'gangstarr', 'abba',\n",
       "       'blind-guardian', 'abba', 'gangstarr', 'blind-guardian',\n",
       "       'gangstarr', 'gangstarr', 'blind-guardian', 'blind-guardian',\n",
       "       'gangstarr', 'abba', 'gangstarr', 'blind-guardian', 'gangstarr',\n",
       "       'abba', 'gangstarr', 'blind-guardian', 'blind-guardian',\n",
       "       'gangstarr', 'blind-guardian', 'gangstarr', 'gangstarr',\n",
       "       'gangstarr', 'blind-guardian', 'gangstarr', 'blind-guardian',\n",
       "       'blind-guardian', 'blind-guardian', 'abba', 'abba',\n",
       "       'blind-guardian', 'blind-guardian', 'gangstarr', 'abba',\n",
       "       'blind-guardian', 'gangstarr'], dtype=object)"
      ]
     },
     "execution_count": 249,
     "metadata": {},
     "output_type": "execute_result"
    }
   ],
   "source": [
    "le.inverse_transform(y_test)"
   ]
  },
  {
   "cell_type": "code",
   "execution_count": 251,
   "id": "individual-cement",
   "metadata": {},
   "outputs": [
    {
     "data": {
      "text/plain": [
       "array(['abba', 'blind-guardian', 'gangstarr', 'abba', 'gangstarr',\n",
       "       'gangstarr', 'abba', 'abba', 'abba', 'gangstarr', 'blind-guardian',\n",
       "       'gangstarr', 'abba', 'abba', 'gangstarr', 'blind-guardian', 'abba',\n",
       "       'abba', 'blind-guardian', 'blind-guardian', 'blind-guardian',\n",
       "       'gangstarr', 'gangstarr', 'blind-guardian', 'blind-guardian',\n",
       "       'gangstarr', 'gangstarr', 'gangstarr', 'blind-guardian',\n",
       "       'blind-guardian', 'abba', 'gangstarr', 'abba', 'gangstarr',\n",
       "       'blind-guardian', 'blind-guardian', 'blind-guardian', 'gangstarr',\n",
       "       'abba', 'blind-guardian', 'gangstarr', 'gangstarr', 'abba', 'abba',\n",
       "       'abba', 'blind-guardian', 'abba', 'abba', 'blind-guardian', 'abba',\n",
       "       'blind-guardian', 'gangstarr', 'abba', 'abba', 'gangstarr', 'abba',\n",
       "       'abba', 'abba', 'blind-guardian', 'gangstarr', 'gangstarr', 'abba',\n",
       "       'abba', 'gangstarr', 'blind-guardian', 'gangstarr', 'gangstarr',\n",
       "       'gangstarr', 'gangstarr', 'abba', 'blind-guardian', 'abba', 'abba',\n",
       "       'abba', 'abba', 'gangstarr', 'blind-guardian', 'gangstarr',\n",
       "       'blind-guardian', 'abba', 'blind-guardian', 'blind-guardian',\n",
       "       'abba', 'blind-guardian', 'blind-guardian', 'gangstarr',\n",
       "       'gangstarr', 'blind-guardian', 'gangstarr', 'gangstarr',\n",
       "       'gangstarr', 'blind-guardian', 'gangstarr', 'gangstarr', 'abba',\n",
       "       'abba', 'gangstarr', 'abba', 'gangstarr', 'blind-guardian',\n",
       "       'gangstarr', 'gangstarr', 'gangstarr', 'blind-guardian',\n",
       "       'blind-guardian', 'gangstarr', 'blind-guardian', 'gangstarr',\n",
       "       'gangstarr', 'gangstarr', 'abba', 'gangstarr', 'blind-guardian',\n",
       "       'abba', 'blind-guardian', 'blind-guardian', 'abba',\n",
       "       'blind-guardian', 'blind-guardian', 'gangstarr', 'abba',\n",
       "       'blind-guardian', 'blind-guardian'], dtype=object)"
      ]
     },
     "execution_count": 251,
     "metadata": {},
     "output_type": "execute_result"
    }
   ],
   "source": [
    "le.inverse_transform(predictions)"
   ]
  },
  {
   "cell_type": "code",
   "execution_count": 259,
   "id": "associate-shield",
   "metadata": {},
   "outputs": [],
   "source": [
    "precision = precision_score(y_test, predictions, average = 'micro')"
   ]
  },
  {
   "cell_type": "code",
   "execution_count": 260,
   "id": "experienced-termination",
   "metadata": {},
   "outputs": [
    {
     "data": {
      "text/plain": [
       "0.797"
      ]
     },
     "execution_count": 260,
     "metadata": {},
     "output_type": "execute_result"
    }
   ],
   "source": [
    "np.round(precision,3)"
   ]
  }
 ],
 "metadata": {
  "kernelspec": {
   "display_name": "Python 3",
   "language": "python",
   "name": "python3"
  },
  "language_info": {
   "codemirror_mode": {
    "name": "ipython",
    "version": 3
   },
   "file_extension": ".py",
   "mimetype": "text/x-python",
   "name": "python",
   "nbconvert_exporter": "python",
   "pygments_lexer": "ipython3",
   "version": "3.7.9"
  }
 },
 "nbformat": 4,
 "nbformat_minor": 5
}
