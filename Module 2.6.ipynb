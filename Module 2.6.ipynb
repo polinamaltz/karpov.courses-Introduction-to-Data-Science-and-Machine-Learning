{
 "cells": [
  {
   "cell_type": "code",
   "execution_count": 248,
   "id": "spectacular-paradise",
   "metadata": {},
   "outputs": [],
   "source": [
    "from sklearn import tree\n",
    "from sklearn.tree import DecisionTreeClassifier\n",
    "import numpy as np\n",
    "import pandas as pd\n",
    "import seaborn as sns\n",
    "from matplotlib import pyplot as plt\n",
    "%matplotlib inline\n",
    "from sklearn.model_selection import train_test_split, GridSearchCV, RandomizedSearchCV\n",
    "from sklearn.model_selection import cross_val_score\n",
    "from sklearn.metrics import precision_score, roc_curve, auc, recall_score\n",
    "from sklearn import preprocessing\n",
    "from sklearn.datasets import load_iris"
   ]
  },
  {
   "cell_type": "code",
   "execution_count": 149,
   "id": "stretch-render",
   "metadata": {},
   "outputs": [
    {
     "data": {
      "text/html": [
       "<style>svg{width: 70% !important; height: 60% !important;} </style>"
      ],
      "text/plain": [
       "<IPython.core.display.HTML object>"
      ]
     },
     "execution_count": 149,
     "metadata": {},
     "output_type": "execute_result"
    }
   ],
   "source": [
    "from IPython.display import SVG\n",
    "from graphviz import Source\n",
    "from IPython.display import display\n",
    "from IPython.display import HTML\n",
    "style = \"<style>svg{width: 70% !important; height: 60% !important;} </style>\" \n",
    "HTML(style)"
   ]
  },
  {
   "cell_type": "markdown",
   "id": "chemical-balance",
   "metadata": {},
   "source": [
    "## Titanic\n",
    "### ROC curve"
   ]
  },
  {
   "cell_type": "code",
   "execution_count": 47,
   "id": "numerous-number",
   "metadata": {},
   "outputs": [],
   "source": [
    "titanic = pd.read_csv(\"./titanic.csv\")"
   ]
  },
  {
   "cell_type": "code",
   "execution_count": 48,
   "id": "planned-berry",
   "metadata": {},
   "outputs": [
    {
     "data": {
      "text/html": [
       "<div>\n",
       "<style scoped>\n",
       "    .dataframe tbody tr th:only-of-type {\n",
       "        vertical-align: middle;\n",
       "    }\n",
       "\n",
       "    .dataframe tbody tr th {\n",
       "        vertical-align: top;\n",
       "    }\n",
       "\n",
       "    .dataframe thead th {\n",
       "        text-align: right;\n",
       "    }\n",
       "</style>\n",
       "<table border=\"1\" class=\"dataframe\">\n",
       "  <thead>\n",
       "    <tr style=\"text-align: right;\">\n",
       "      <th></th>\n",
       "      <th>PassengerId</th>\n",
       "      <th>Survived</th>\n",
       "      <th>Pclass</th>\n",
       "      <th>Name</th>\n",
       "      <th>Sex</th>\n",
       "      <th>Age</th>\n",
       "      <th>SibSp</th>\n",
       "      <th>Parch</th>\n",
       "      <th>Ticket</th>\n",
       "      <th>Fare</th>\n",
       "      <th>Cabin</th>\n",
       "      <th>Embarked</th>\n",
       "    </tr>\n",
       "  </thead>\n",
       "  <tbody>\n",
       "    <tr>\n",
       "      <th>0</th>\n",
       "      <td>1</td>\n",
       "      <td>0</td>\n",
       "      <td>3</td>\n",
       "      <td>Braund, Mr. Owen Harris</td>\n",
       "      <td>male</td>\n",
       "      <td>22.0</td>\n",
       "      <td>1</td>\n",
       "      <td>0</td>\n",
       "      <td>A/5 21171</td>\n",
       "      <td>7.2500</td>\n",
       "      <td>NaN</td>\n",
       "      <td>S</td>\n",
       "    </tr>\n",
       "    <tr>\n",
       "      <th>1</th>\n",
       "      <td>2</td>\n",
       "      <td>1</td>\n",
       "      <td>1</td>\n",
       "      <td>Cumings, Mrs. John Bradley (Florence Briggs Th...</td>\n",
       "      <td>female</td>\n",
       "      <td>38.0</td>\n",
       "      <td>1</td>\n",
       "      <td>0</td>\n",
       "      <td>PC 17599</td>\n",
       "      <td>71.2833</td>\n",
       "      <td>C85</td>\n",
       "      <td>C</td>\n",
       "    </tr>\n",
       "    <tr>\n",
       "      <th>2</th>\n",
       "      <td>3</td>\n",
       "      <td>1</td>\n",
       "      <td>3</td>\n",
       "      <td>Heikkinen, Miss. Laina</td>\n",
       "      <td>female</td>\n",
       "      <td>26.0</td>\n",
       "      <td>0</td>\n",
       "      <td>0</td>\n",
       "      <td>STON/O2. 3101282</td>\n",
       "      <td>7.9250</td>\n",
       "      <td>NaN</td>\n",
       "      <td>S</td>\n",
       "    </tr>\n",
       "    <tr>\n",
       "      <th>3</th>\n",
       "      <td>4</td>\n",
       "      <td>1</td>\n",
       "      <td>1</td>\n",
       "      <td>Futrelle, Mrs. Jacques Heath (Lily May Peel)</td>\n",
       "      <td>female</td>\n",
       "      <td>35.0</td>\n",
       "      <td>1</td>\n",
       "      <td>0</td>\n",
       "      <td>113803</td>\n",
       "      <td>53.1000</td>\n",
       "      <td>C123</td>\n",
       "      <td>S</td>\n",
       "    </tr>\n",
       "    <tr>\n",
       "      <th>4</th>\n",
       "      <td>5</td>\n",
       "      <td>0</td>\n",
       "      <td>3</td>\n",
       "      <td>Allen, Mr. William Henry</td>\n",
       "      <td>male</td>\n",
       "      <td>35.0</td>\n",
       "      <td>0</td>\n",
       "      <td>0</td>\n",
       "      <td>373450</td>\n",
       "      <td>8.0500</td>\n",
       "      <td>NaN</td>\n",
       "      <td>S</td>\n",
       "    </tr>\n",
       "  </tbody>\n",
       "</table>\n",
       "</div>"
      ],
      "text/plain": [
       "   PassengerId  Survived  Pclass  \\\n",
       "0            1         0       3   \n",
       "1            2         1       1   \n",
       "2            3         1       3   \n",
       "3            4         1       1   \n",
       "4            5         0       3   \n",
       "\n",
       "                                                Name     Sex   Age  SibSp  \\\n",
       "0                            Braund, Mr. Owen Harris    male  22.0      1   \n",
       "1  Cumings, Mrs. John Bradley (Florence Briggs Th...  female  38.0      1   \n",
       "2                             Heikkinen, Miss. Laina  female  26.0      0   \n",
       "3       Futrelle, Mrs. Jacques Heath (Lily May Peel)  female  35.0      1   \n",
       "4                           Allen, Mr. William Henry    male  35.0      0   \n",
       "\n",
       "   Parch            Ticket     Fare Cabin Embarked  \n",
       "0      0         A/5 21171   7.2500   NaN        S  \n",
       "1      0          PC 17599  71.2833   C85        C  \n",
       "2      0  STON/O2. 3101282   7.9250   NaN        S  \n",
       "3      0            113803  53.1000  C123        S  \n",
       "4      0            373450   8.0500   NaN        S  "
      ]
     },
     "execution_count": 48,
     "metadata": {},
     "output_type": "execute_result"
    }
   ],
   "source": [
    "titanic.head()"
   ]
  },
  {
   "cell_type": "code",
   "execution_count": 84,
   "id": "abstract-notebook",
   "metadata": {},
   "outputs": [],
   "source": [
    "X = titanic.drop(['Name', 'Ticket', 'Cabin', 'Embarked', 'Survived'], axis = 1)"
   ]
  },
  {
   "cell_type": "code",
   "execution_count": 85,
   "id": "falling-gather",
   "metadata": {},
   "outputs": [],
   "source": [
    "X.Age = X.Age.fillna(X.Age.median())"
   ]
  },
  {
   "cell_type": "code",
   "execution_count": 86,
   "id": "involved-playlist",
   "metadata": {},
   "outputs": [],
   "source": [
    "X = pd.get_dummies(X)\n",
    "X = X.drop('Sex_male', axis=1)"
   ]
  },
  {
   "cell_type": "code",
   "execution_count": 87,
   "id": "automatic-living",
   "metadata": {},
   "outputs": [
    {
     "data": {
      "text/html": [
       "<div>\n",
       "<style scoped>\n",
       "    .dataframe tbody tr th:only-of-type {\n",
       "        vertical-align: middle;\n",
       "    }\n",
       "\n",
       "    .dataframe tbody tr th {\n",
       "        vertical-align: top;\n",
       "    }\n",
       "\n",
       "    .dataframe thead th {\n",
       "        text-align: right;\n",
       "    }\n",
       "</style>\n",
       "<table border=\"1\" class=\"dataframe\">\n",
       "  <thead>\n",
       "    <tr style=\"text-align: right;\">\n",
       "      <th></th>\n",
       "      <th>PassengerId</th>\n",
       "      <th>Pclass</th>\n",
       "      <th>Age</th>\n",
       "      <th>SibSp</th>\n",
       "      <th>Parch</th>\n",
       "      <th>Fare</th>\n",
       "      <th>Sex_female</th>\n",
       "    </tr>\n",
       "  </thead>\n",
       "  <tbody>\n",
       "    <tr>\n",
       "      <th>0</th>\n",
       "      <td>1</td>\n",
       "      <td>3</td>\n",
       "      <td>22.0</td>\n",
       "      <td>1</td>\n",
       "      <td>0</td>\n",
       "      <td>7.2500</td>\n",
       "      <td>0</td>\n",
       "    </tr>\n",
       "    <tr>\n",
       "      <th>1</th>\n",
       "      <td>2</td>\n",
       "      <td>1</td>\n",
       "      <td>38.0</td>\n",
       "      <td>1</td>\n",
       "      <td>0</td>\n",
       "      <td>71.2833</td>\n",
       "      <td>1</td>\n",
       "    </tr>\n",
       "    <tr>\n",
       "      <th>2</th>\n",
       "      <td>3</td>\n",
       "      <td>3</td>\n",
       "      <td>26.0</td>\n",
       "      <td>0</td>\n",
       "      <td>0</td>\n",
       "      <td>7.9250</td>\n",
       "      <td>1</td>\n",
       "    </tr>\n",
       "    <tr>\n",
       "      <th>3</th>\n",
       "      <td>4</td>\n",
       "      <td>1</td>\n",
       "      <td>35.0</td>\n",
       "      <td>1</td>\n",
       "      <td>0</td>\n",
       "      <td>53.1000</td>\n",
       "      <td>1</td>\n",
       "    </tr>\n",
       "    <tr>\n",
       "      <th>4</th>\n",
       "      <td>5</td>\n",
       "      <td>3</td>\n",
       "      <td>35.0</td>\n",
       "      <td>0</td>\n",
       "      <td>0</td>\n",
       "      <td>8.0500</td>\n",
       "      <td>0</td>\n",
       "    </tr>\n",
       "  </tbody>\n",
       "</table>\n",
       "</div>"
      ],
      "text/plain": [
       "   PassengerId  Pclass   Age  SibSp  Parch     Fare  Sex_female\n",
       "0            1       3  22.0      1      0   7.2500           0\n",
       "1            2       1  38.0      1      0  71.2833           1\n",
       "2            3       3  26.0      0      0   7.9250           1\n",
       "3            4       1  35.0      1      0  53.1000           1\n",
       "4            5       3  35.0      0      0   8.0500           0"
      ]
     },
     "execution_count": 87,
     "metadata": {},
     "output_type": "execute_result"
    }
   ],
   "source": [
    "X.head()"
   ]
  },
  {
   "cell_type": "code",
   "execution_count": 89,
   "id": "protecting-reserve",
   "metadata": {},
   "outputs": [],
   "source": [
    "y = titanic['Survived']"
   ]
  },
  {
   "cell_type": "code",
   "execution_count": 107,
   "id": "piano-television",
   "metadata": {},
   "outputs": [],
   "source": [
    "clf = tree.DecisionTreeClassifier(random_state = 42, max_depth = 5)"
   ]
  },
  {
   "cell_type": "code",
   "execution_count": 108,
   "id": "ruled-scheduling",
   "metadata": {},
   "outputs": [],
   "source": [
    "X_train, X_test, y_train, y_test = train_test_split(X, y, train_size = 0.66)"
   ]
  },
  {
   "cell_type": "code",
   "execution_count": 109,
   "id": "bound-austin",
   "metadata": {},
   "outputs": [
    {
     "data": {
      "text/plain": [
       "DecisionTreeClassifier(max_depth=5, random_state=42)"
      ]
     },
     "execution_count": 109,
     "metadata": {},
     "output_type": "execute_result"
    }
   ],
   "source": [
    "clf.fit(X_train, y_train)"
   ]
  },
  {
   "cell_type": "code",
   "execution_count": 110,
   "id": "working-wheel",
   "metadata": {},
   "outputs": [],
   "source": [
    "predictions = clf.predict(X_test)"
   ]
  },
  {
   "cell_type": "code",
   "execution_count": 117,
   "id": "impressed-world",
   "metadata": {},
   "outputs": [],
   "source": [
    "y_predicted_prob = clf.predict_proba(X_test)"
   ]
  },
  {
   "cell_type": "code",
   "execution_count": 112,
   "id": "naughty-marina",
   "metadata": {},
   "outputs": [],
   "source": [
    "precision = precision_score(y_test, predictions)"
   ]
  },
  {
   "cell_type": "code",
   "execution_count": 113,
   "id": "juvenile-cameroon",
   "metadata": {},
   "outputs": [],
   "source": [
    "recall = recall_score(y_test, predictions)"
   ]
  },
  {
   "cell_type": "code",
   "execution_count": 114,
   "id": "swiss-concentrate",
   "metadata": {},
   "outputs": [
    {
     "data": {
      "text/plain": [
       "0.7708333333333334"
      ]
     },
     "execution_count": 114,
     "metadata": {},
     "output_type": "execute_result"
    }
   ],
   "source": [
    "precision"
   ]
  },
  {
   "cell_type": "code",
   "execution_count": 115,
   "id": "colored-magic",
   "metadata": {},
   "outputs": [
    {
     "data": {
      "text/plain": [
       "0.6166666666666667"
      ]
     },
     "execution_count": 115,
     "metadata": {},
     "output_type": "execute_result"
    }
   ],
   "source": [
    "recall"
   ]
  },
  {
   "cell_type": "code",
   "execution_count": 118,
   "id": "sorted-breed",
   "metadata": {},
   "outputs": [
    {
     "data": {
      "text/plain": [
       "array([[0.4375    , 0.5625    ],\n",
       "       [0.        , 1.        ],\n",
       "       [0.53846154, 0.46153846],\n",
       "       [0.8778626 , 0.1221374 ],\n",
       "       [0.53846154, 0.46153846],\n",
       "       [0.19354839, 0.80645161],\n",
       "       [0.8778626 , 0.1221374 ],\n",
       "       [0.8778626 , 0.1221374 ],\n",
       "       [0.60606061, 0.39393939],\n",
       "       [0.88888889, 0.11111111],\n",
       "       [0.        , 1.        ],\n",
       "       [0.8778626 , 0.1221374 ],\n",
       "       [0.8778626 , 0.1221374 ],\n",
       "       [0.        , 1.        ],\n",
       "       [0.        , 1.        ],\n",
       "       [0.        , 1.        ],\n",
       "       [0.8778626 , 0.1221374 ],\n",
       "       [0.8778626 , 0.1221374 ],\n",
       "       [0.8778626 , 0.1221374 ],\n",
       "       [0.8778626 , 0.1221374 ],\n",
       "       [0.19354839, 0.80645161],\n",
       "       [0.8778626 , 0.1221374 ],\n",
       "       [0.        , 1.        ],\n",
       "       [0.60606061, 0.39393939],\n",
       "       [0.19354839, 0.80645161],\n",
       "       [0.19354839, 0.80645161],\n",
       "       [0.8778626 , 0.1221374 ],\n",
       "       [0.53846154, 0.46153846],\n",
       "       [0.19354839, 0.80645161],\n",
       "       [0.60606061, 0.39393939],\n",
       "       [0.8778626 , 0.1221374 ],\n",
       "       [0.8778626 , 0.1221374 ],\n",
       "       [0.8778626 , 0.1221374 ],\n",
       "       [0.8778626 , 0.1221374 ],\n",
       "       [0.        , 1.        ],\n",
       "       [0.8778626 , 0.1221374 ],\n",
       "       [0.8778626 , 0.1221374 ],\n",
       "       [0.8778626 , 0.1221374 ],\n",
       "       [0.88888889, 0.11111111],\n",
       "       [1.        , 0.        ],\n",
       "       [0.8778626 , 0.1221374 ],\n",
       "       [0.4375    , 0.5625    ],\n",
       "       [0.8778626 , 0.1221374 ],\n",
       "       [1.        , 0.        ],\n",
       "       [0.4375    , 0.5625    ],\n",
       "       [0.60606061, 0.39393939],\n",
       "       [0.60606061, 0.39393939],\n",
       "       [0.8778626 , 0.1221374 ],\n",
       "       [0.8778626 , 0.1221374 ],\n",
       "       [0.88888889, 0.11111111],\n",
       "       [0.60606061, 0.39393939],\n",
       "       [0.8778626 , 0.1221374 ],\n",
       "       [0.8778626 , 0.1221374 ],\n",
       "       [0.11111111, 0.88888889],\n",
       "       [0.19354839, 0.80645161],\n",
       "       [0.        , 1.        ],\n",
       "       [1.        , 0.        ],\n",
       "       [0.        , 1.        ],\n",
       "       [0.4375    , 0.5625    ],\n",
       "       [0.8778626 , 0.1221374 ],\n",
       "       [0.4375    , 0.5625    ],\n",
       "       [0.8778626 , 0.1221374 ],\n",
       "       [1.        , 0.        ],\n",
       "       [0.8778626 , 0.1221374 ],\n",
       "       [0.60606061, 0.39393939],\n",
       "       [0.8778626 , 0.1221374 ],\n",
       "       [0.11111111, 0.88888889],\n",
       "       [0.19354839, 0.80645161],\n",
       "       [0.8778626 , 0.1221374 ],\n",
       "       [0.8778626 , 0.1221374 ],\n",
       "       [0.        , 1.        ],\n",
       "       [0.        , 1.        ],\n",
       "       [0.8778626 , 0.1221374 ],\n",
       "       [0.19354839, 0.80645161],\n",
       "       [0.8778626 , 0.1221374 ],\n",
       "       [0.88888889, 0.11111111],\n",
       "       [0.8778626 , 0.1221374 ],\n",
       "       [0.19354839, 0.80645161],\n",
       "       [0.        , 1.        ],\n",
       "       [0.        , 1.        ],\n",
       "       [0.        , 1.        ],\n",
       "       [0.8778626 , 0.1221374 ],\n",
       "       [0.8778626 , 0.1221374 ],\n",
       "       [0.60606061, 0.39393939],\n",
       "       [0.19354839, 0.80645161],\n",
       "       [0.        , 1.        ],\n",
       "       [0.11111111, 0.88888889],\n",
       "       [0.8778626 , 0.1221374 ],\n",
       "       [0.8778626 , 0.1221374 ],\n",
       "       [0.8778626 , 0.1221374 ],\n",
       "       [0.8778626 , 0.1221374 ],\n",
       "       [0.88888889, 0.11111111],\n",
       "       [1.        , 0.        ],\n",
       "       [0.        , 1.        ],\n",
       "       [0.8778626 , 0.1221374 ],\n",
       "       [1.        , 0.        ],\n",
       "       [0.60606061, 0.39393939],\n",
       "       [0.11111111, 0.88888889],\n",
       "       [0.8778626 , 0.1221374 ],\n",
       "       [0.8778626 , 0.1221374 ],\n",
       "       [0.8778626 , 0.1221374 ],\n",
       "       [0.8778626 , 0.1221374 ],\n",
       "       [0.8778626 , 0.1221374 ],\n",
       "       [0.8778626 , 0.1221374 ],\n",
       "       [0.        , 1.        ],\n",
       "       [0.8778626 , 0.1221374 ],\n",
       "       [1.        , 0.        ],\n",
       "       [0.8778626 , 0.1221374 ],\n",
       "       [0.        , 1.        ],\n",
       "       [0.8778626 , 0.1221374 ],\n",
       "       [0.4375    , 0.5625    ],\n",
       "       [0.8778626 , 0.1221374 ],\n",
       "       [0.8778626 , 0.1221374 ],\n",
       "       [0.8778626 , 0.1221374 ],\n",
       "       [0.60606061, 0.39393939],\n",
       "       [0.19354839, 0.80645161],\n",
       "       [0.19354839, 0.80645161],\n",
       "       [0.        , 1.        ],\n",
       "       [0.8778626 , 0.1221374 ],\n",
       "       [0.8778626 , 0.1221374 ],\n",
       "       [1.        , 0.        ],\n",
       "       [0.        , 1.        ],\n",
       "       [0.8778626 , 0.1221374 ],\n",
       "       [0.8778626 , 0.1221374 ],\n",
       "       [0.8778626 , 0.1221374 ],\n",
       "       [0.        , 1.        ],\n",
       "       [0.8778626 , 0.1221374 ],\n",
       "       [0.8778626 , 0.1221374 ],\n",
       "       [0.8778626 , 0.1221374 ],\n",
       "       [0.8778626 , 0.1221374 ],\n",
       "       [0.8778626 , 0.1221374 ],\n",
       "       [0.88888889, 0.11111111],\n",
       "       [1.        , 0.        ],\n",
       "       [0.4375    , 0.5625    ],\n",
       "       [0.        , 1.        ],\n",
       "       [1.        , 0.        ],\n",
       "       [0.60606061, 0.39393939],\n",
       "       [0.19354839, 0.80645161],\n",
       "       [0.8778626 , 0.1221374 ],\n",
       "       [0.8778626 , 0.1221374 ],\n",
       "       [0.60606061, 0.39393939],\n",
       "       [0.19354839, 0.80645161],\n",
       "       [0.        , 1.        ],\n",
       "       [0.60606061, 0.39393939],\n",
       "       [0.8778626 , 0.1221374 ],\n",
       "       [0.8778626 , 0.1221374 ],\n",
       "       [0.8778626 , 0.1221374 ],\n",
       "       [0.8778626 , 0.1221374 ],\n",
       "       [0.88888889, 0.11111111],\n",
       "       [0.8778626 , 0.1221374 ],\n",
       "       [1.        , 0.        ],\n",
       "       [0.8778626 , 0.1221374 ],\n",
       "       [0.        , 1.        ],\n",
       "       [0.8778626 , 0.1221374 ],\n",
       "       [0.8778626 , 0.1221374 ],\n",
       "       [0.19354839, 0.80645161],\n",
       "       [0.8778626 , 0.1221374 ],\n",
       "       [0.        , 1.        ],\n",
       "       [0.88888889, 0.11111111],\n",
       "       [0.11111111, 0.88888889],\n",
       "       [0.8778626 , 0.1221374 ],\n",
       "       [0.8778626 , 0.1221374 ],\n",
       "       [0.        , 1.        ],\n",
       "       [0.8778626 , 0.1221374 ],\n",
       "       [0.        , 1.        ],\n",
       "       [0.8778626 , 0.1221374 ],\n",
       "       [0.8778626 , 0.1221374 ],\n",
       "       [0.8778626 , 0.1221374 ],\n",
       "       [0.        , 1.        ],\n",
       "       [0.8778626 , 0.1221374 ],\n",
       "       [0.88888889, 0.11111111],\n",
       "       [0.8778626 , 0.1221374 ],\n",
       "       [1.        , 0.        ],\n",
       "       [0.8778626 , 0.1221374 ],\n",
       "       [0.88888889, 0.11111111],\n",
       "       [0.        , 1.        ],\n",
       "       [0.88888889, 0.11111111],\n",
       "       [1.        , 0.        ],\n",
       "       [0.8778626 , 0.1221374 ],\n",
       "       [0.8778626 , 0.1221374 ],\n",
       "       [0.8778626 , 0.1221374 ],\n",
       "       [0.8778626 , 0.1221374 ],\n",
       "       [0.8778626 , 0.1221374 ],\n",
       "       [0.88888889, 0.11111111],\n",
       "       [0.8778626 , 0.1221374 ],\n",
       "       [0.        , 1.        ],\n",
       "       [0.88888889, 0.11111111],\n",
       "       [0.        , 1.        ],\n",
       "       [0.8778626 , 0.1221374 ],\n",
       "       [0.8778626 , 0.1221374 ],\n",
       "       [0.8778626 , 0.1221374 ],\n",
       "       [0.        , 1.        ],\n",
       "       [0.11111111, 0.88888889],\n",
       "       [0.4375    , 0.5625    ],\n",
       "       [0.        , 1.        ],\n",
       "       [0.88888889, 0.11111111],\n",
       "       [0.        , 1.        ],\n",
       "       [0.88888889, 0.11111111],\n",
       "       [0.        , 1.        ],\n",
       "       [0.4375    , 0.5625    ],\n",
       "       [0.8778626 , 0.1221374 ],\n",
       "       [1.        , 0.        ],\n",
       "       [0.60606061, 0.39393939],\n",
       "       [0.19354839, 0.80645161],\n",
       "       [0.53846154, 0.46153846],\n",
       "       [0.8778626 , 0.1221374 ],\n",
       "       [0.88888889, 0.11111111],\n",
       "       [0.8778626 , 0.1221374 ],\n",
       "       [0.8778626 , 0.1221374 ],\n",
       "       [1.        , 0.        ],\n",
       "       [0.8778626 , 0.1221374 ],\n",
       "       [0.8778626 , 0.1221374 ],\n",
       "       [0.88888889, 0.11111111],\n",
       "       [0.19354839, 0.80645161],\n",
       "       [0.8778626 , 0.1221374 ],\n",
       "       [0.8778626 , 0.1221374 ],\n",
       "       [0.11111111, 0.88888889],\n",
       "       [0.8778626 , 0.1221374 ],\n",
       "       [0.19354839, 0.80645161],\n",
       "       [0.8778626 , 0.1221374 ],\n",
       "       [0.        , 1.        ],\n",
       "       [0.19354839, 0.80645161],\n",
       "       [0.        , 1.        ],\n",
       "       [0.8778626 , 0.1221374 ],\n",
       "       [0.8778626 , 0.1221374 ],\n",
       "       [0.8778626 , 0.1221374 ],\n",
       "       [0.8778626 , 0.1221374 ],\n",
       "       [0.4375    , 0.5625    ],\n",
       "       [1.        , 0.        ],\n",
       "       [0.8778626 , 0.1221374 ],\n",
       "       [0.88888889, 0.11111111],\n",
       "       [0.11111111, 0.88888889],\n",
       "       [0.8778626 , 0.1221374 ],\n",
       "       [0.8778626 , 0.1221374 ],\n",
       "       [0.8778626 , 0.1221374 ],\n",
       "       [0.4375    , 0.5625    ],\n",
       "       [0.8778626 , 0.1221374 ],\n",
       "       [0.8778626 , 0.1221374 ],\n",
       "       [0.8778626 , 0.1221374 ],\n",
       "       [0.60606061, 0.39393939],\n",
       "       [0.4375    , 0.5625    ],\n",
       "       [1.        , 0.        ],\n",
       "       [0.8778626 , 0.1221374 ],\n",
       "       [0.8778626 , 0.1221374 ],\n",
       "       [0.8778626 , 0.1221374 ],\n",
       "       [0.        , 1.        ],\n",
       "       [0.        , 1.        ],\n",
       "       [0.11111111, 0.88888889],\n",
       "       [0.88888889, 0.11111111],\n",
       "       [0.8778626 , 0.1221374 ],\n",
       "       [0.88888889, 0.11111111],\n",
       "       [0.88888889, 0.11111111],\n",
       "       [0.        , 1.        ],\n",
       "       [0.11111111, 0.88888889],\n",
       "       [0.8778626 , 0.1221374 ],\n",
       "       [0.        , 1.        ],\n",
       "       [0.8778626 , 0.1221374 ],\n",
       "       [0.60606061, 0.39393939],\n",
       "       [1.        , 0.        ],\n",
       "       [0.8778626 , 0.1221374 ],\n",
       "       [0.88888889, 0.11111111],\n",
       "       [0.8778626 , 0.1221374 ],\n",
       "       [0.8778626 , 0.1221374 ],\n",
       "       [0.        , 1.        ],\n",
       "       [0.8778626 , 0.1221374 ],\n",
       "       [0.8778626 , 0.1221374 ],\n",
       "       [0.8778626 , 0.1221374 ],\n",
       "       [1.        , 0.        ],\n",
       "       [0.8778626 , 0.1221374 ],\n",
       "       [0.4375    , 0.5625    ],\n",
       "       [0.8778626 , 0.1221374 ],\n",
       "       [0.4375    , 0.5625    ],\n",
       "       [0.8778626 , 0.1221374 ],\n",
       "       [0.        , 1.        ],\n",
       "       [0.8778626 , 0.1221374 ],\n",
       "       [0.8778626 , 0.1221374 ],\n",
       "       [0.8778626 , 0.1221374 ],\n",
       "       [0.8778626 , 0.1221374 ],\n",
       "       [0.11111111, 0.88888889],\n",
       "       [0.8778626 , 0.1221374 ],\n",
       "       [0.4375    , 0.5625    ],\n",
       "       [0.8778626 , 0.1221374 ],\n",
       "       [0.4375    , 0.5625    ],\n",
       "       [0.88888889, 0.11111111],\n",
       "       [0.        , 1.        ],\n",
       "       [0.8778626 , 0.1221374 ],\n",
       "       [0.        , 1.        ],\n",
       "       [0.8778626 , 0.1221374 ],\n",
       "       [0.        , 1.        ],\n",
       "       [0.8778626 , 0.1221374 ],\n",
       "       [0.8778626 , 0.1221374 ],\n",
       "       [0.19354839, 0.80645161],\n",
       "       [0.88888889, 0.11111111],\n",
       "       [0.        , 1.        ],\n",
       "       [0.88888889, 0.11111111],\n",
       "       [0.88888889, 0.11111111],\n",
       "       [0.8778626 , 0.1221374 ],\n",
       "       [0.88888889, 0.11111111],\n",
       "       [0.        , 1.        ],\n",
       "       [0.8778626 , 0.1221374 ],\n",
       "       [1.        , 0.        ],\n",
       "       [0.11111111, 0.88888889],\n",
       "       [0.8778626 , 0.1221374 ]])"
      ]
     },
     "execution_count": 118,
     "metadata": {},
     "output_type": "execute_result"
    }
   ],
   "source": [
    "y_predicted_prob"
   ]
  },
  {
   "cell_type": "code",
   "execution_count": 116,
   "id": "frozen-italic",
   "metadata": {},
   "outputs": [
    {
     "data": {
      "text/plain": [
       "<matplotlib.legend.Legend at 0x27e5f4269c8>"
      ]
     },
     "execution_count": 116,
     "metadata": {},
     "output_type": "execute_result"
    },
    {
     "data": {
      "image/png": "[encoded data removed]",
      "text/plain": [
       "<Figure size 432x288 with 1 Axes>"
      ]
     },
     "metadata": {
      "needs_background": "light"
     },
     "output_type": "display_data"
    }
   ],
   "source": [
    "fpr, tpr, thresholds = roc_curve(y_test, y_predicted_prob[:,1])\n",
    "roc_auc= auc(fpr, tpr)\n",
    "plt.figure()\n",
    "plt.plot(fpr, tpr, label='ROC curve (area = %0.2f)' % (roc_auc))\n",
    "plt.plot([0, 1], [0, 1] , 'k--')\n",
    "plt.xlim([0.0, 1.0])\n",
    "plt.ylim([0.0, 1.05])\n",
    "plt.xlabel('False Positive Rate')\n",
    "plt.ylabel('True Positive Rate')\n",
    "plt.title('Receiver operating characteristic')\n",
    "plt.legend(loc=\"lower right\")"
   ]
  },
  {
   "cell_type": "markdown",
   "id": "announced-horizontal",
   "metadata": {},
   "source": [
    "### 2.7"
   ]
  },
  {
   "cell_type": "code",
   "execution_count": 119,
   "id": "hungry-nevada",
   "metadata": {},
   "outputs": [],
   "source": [
    "xydata = pd.read_csv(\"train_data_tree_2.7.csv\")"
   ]
  },
  {
   "cell_type": "code",
   "execution_count": 122,
   "id": "likely-raise",
   "metadata": {},
   "outputs": [
    {
     "data": {
      "text/html": [
       "<div>\n",
       "<style scoped>\n",
       "    .dataframe tbody tr th:only-of-type {\n",
       "        vertical-align: middle;\n",
       "    }\n",
       "\n",
       "    .dataframe tbody tr th {\n",
       "        vertical-align: top;\n",
       "    }\n",
       "\n",
       "    .dataframe thead th {\n",
       "        text-align: right;\n",
       "    }\n",
       "</style>\n",
       "<table border=\"1\" class=\"dataframe\">\n",
       "  <thead>\n",
       "    <tr style=\"text-align: right;\">\n",
       "      <th></th>\n",
       "      <th>sex</th>\n",
       "      <th>exang</th>\n",
       "      <th>num</th>\n",
       "    </tr>\n",
       "  </thead>\n",
       "  <tbody>\n",
       "    <tr>\n",
       "      <th>0</th>\n",
       "      <td>1</td>\n",
       "      <td>1</td>\n",
       "      <td>1</td>\n",
       "    </tr>\n",
       "    <tr>\n",
       "      <th>1</th>\n",
       "      <td>1</td>\n",
       "      <td>1</td>\n",
       "      <td>1</td>\n",
       "    </tr>\n",
       "    <tr>\n",
       "      <th>2</th>\n",
       "      <td>1</td>\n",
       "      <td>0</td>\n",
       "      <td>1</td>\n",
       "    </tr>\n",
       "    <tr>\n",
       "      <th>3</th>\n",
       "      <td>1</td>\n",
       "      <td>0</td>\n",
       "      <td>0</td>\n",
       "    </tr>\n",
       "    <tr>\n",
       "      <th>4</th>\n",
       "      <td>1</td>\n",
       "      <td>0</td>\n",
       "      <td>1</td>\n",
       "    </tr>\n",
       "  </tbody>\n",
       "</table>\n",
       "</div>"
      ],
      "text/plain": [
       "   sex  exang  num\n",
       "0    1      1    1\n",
       "1    1      1    1\n",
       "2    1      0    1\n",
       "3    1      0    0\n",
       "4    1      0    1"
      ]
     },
     "execution_count": 122,
     "metadata": {},
     "output_type": "execute_result"
    }
   ],
   "source": [
    "xydata.head()"
   ]
  },
  {
   "cell_type": "code",
   "execution_count": 126,
   "id": "equal-change",
   "metadata": {},
   "outputs": [],
   "source": [
    "X = xydata.drop(['num'], axis =1)\n",
    "y = xydata.num"
   ]
  },
  {
   "cell_type": "code",
   "execution_count": 127,
   "id": "received-silicon",
   "metadata": {},
   "outputs": [],
   "source": [
    "X_train, X_test, y_train, y_test = train_test_split(X, y, train_size = 0.8)"
   ]
  },
  {
   "cell_type": "code",
   "execution_count": 140,
   "id": "convenient-language",
   "metadata": {},
   "outputs": [],
   "source": [
    "clf = tree.DecisionTreeClassifier(random_state = 42, criterion = 'entropy')"
   ]
  },
  {
   "cell_type": "code",
   "execution_count": 141,
   "id": "guilty-friday",
   "metadata": {},
   "outputs": [
    {
     "data": {
      "text/plain": [
       "DecisionTreeClassifier(criterion='entropy', random_state=42)"
      ]
     },
     "execution_count": 141,
     "metadata": {},
     "output_type": "execute_result"
    }
   ],
   "source": [
    "clf.fit(X_train, y_train)"
   ]
  },
  {
   "cell_type": "code",
   "execution_count": 142,
   "id": "brief-distinction",
   "metadata": {},
   "outputs": [],
   "source": [
    "predictions = clf.predict(X_test)"
   ]
  },
  {
   "cell_type": "code",
   "execution_count": 143,
   "id": "duplicate-times",
   "metadata": {},
   "outputs": [],
   "source": [
    "precision = precision_score(y_test, predictions)"
   ]
  },
  {
   "cell_type": "code",
   "execution_count": 144,
   "id": "bound-plant",
   "metadata": {},
   "outputs": [],
   "source": [
    "recall = recall_score(y_test, predictions)"
   ]
  },
  {
   "cell_type": "code",
   "execution_count": 145,
   "id": "bizarre-permit",
   "metadata": {},
   "outputs": [
    {
     "data": {
      "text/plain": [
       "0.8"
      ]
     },
     "execution_count": 145,
     "metadata": {},
     "output_type": "execute_result"
    }
   ],
   "source": [
    "precision"
   ]
  },
  {
   "cell_type": "code",
   "execution_count": 146,
   "id": "periodic-process",
   "metadata": {},
   "outputs": [
    {
     "data": {
      "text/plain": [
       "0.6956521739130435"
      ]
     },
     "execution_count": 146,
     "metadata": {},
     "output_type": "execute_result"
    }
   ],
   "source": [
    "recall"
   ]
  },
  {
   "cell_type": "code",
   "execution_count": 204,
   "id": "minus-tongue",
   "metadata": {},
   "outputs": [
    {
     "data": {
      "image/svg+xml": [
       "<svg height=\"314pt\" viewBox=\"0.00 0.00 495.00 314.00\" width=\"495pt\" xmlns=\"http://www.w3.org/2000/svg\" xmlns:xlink=\"http://www.w3.org/1999/xlink\">\n",
       "<g class=\"graph\" id=\"graph0\" transform=\"scale(1 1) rotate(0) translate(4 310)\">\n",
       "<title>Tree</title>\n",
       "<polygon fill=\"white\" points=\"-4,4 -4,-310 491,-310 491,4 -4,4\" stroke=\"transparent\"/>\n",
       "<!-- 0 -->\n",
       "<g class=\"node\" id=\"node1\">\n",
       "<title>0</title>\n",
       "<polygon fill=\"#fbede3\" points=\"299,-306 181,-306 181,-223 299,-223 299,-306\" stroke=\"black\"/>\n",
       "<text font-family=\"Times New Roman,serif\" font-size=\"14.00\" text-anchor=\"middle\" x=\"240\" y=\"-290.8\">exang &lt;= 0.5</text>\n",
       "<text font-family=\"Times New Roman,serif\" font-size=\"14.00\" text-anchor=\"middle\" x=\"240\" y=\"-275.8\">entropy = 0.996</text>\n",
       "<text font-family=\"Times New Roman,serif\" font-size=\"14.00\" text-anchor=\"middle\" x=\"240\" y=\"-260.8\">samples = 238</text>\n",
       "<text font-family=\"Times New Roman,serif\" font-size=\"14.00\" text-anchor=\"middle\" x=\"240\" y=\"-245.8\">value = [128, 110]</text>\n",
       "<text font-family=\"Times New Roman,serif\" font-size=\"14.00\" text-anchor=\"middle\" x=\"240\" y=\"-230.8\">class = Died</text>\n",
       "</g>\n",
       "<!-- 1 -->\n",
       "<g class=\"node\" id=\"node2\">\n",
       "<title>1</title>\n",
       "<polygon fill=\"#f1bc96\" points=\"231.5,-187 120.5,-187 120.5,-104 231.5,-104 231.5,-187\" stroke=\"black\"/>\n",
       "<text font-family=\"Times New Roman,serif\" font-size=\"14.00\" text-anchor=\"middle\" x=\"176\" y=\"-171.8\">sex &lt;= 0.5</text>\n",
       "<text font-family=\"Times New Roman,serif\" font-size=\"14.00\" text-anchor=\"middle\" x=\"176\" y=\"-156.8\">entropy = 0.903</text>\n",
       "<text font-family=\"Times New Roman,serif\" font-size=\"14.00\" text-anchor=\"middle\" x=\"176\" y=\"-141.8\">samples = 157</text>\n",
       "<text font-family=\"Times New Roman,serif\" font-size=\"14.00\" text-anchor=\"middle\" x=\"176\" y=\"-126.8\">value = [107, 50]</text>\n",
       "<text font-family=\"Times New Roman,serif\" font-size=\"14.00\" text-anchor=\"middle\" x=\"176\" y=\"-111.8\">class = Died</text>\n",
       "</g>\n",
       "<!-- 0&#45;&gt;1 -->\n",
       "<g class=\"edge\" id=\"edge1\">\n",
       "<title>0-&gt;1</title>\n",
       "<path d=\"M217.8,-222.91C213.03,-214.2 207.94,-204.9 203.02,-195.89\" fill=\"none\" stroke=\"black\"/>\n",
       "<polygon fill=\"black\" points=\"206.03,-194.11 198.17,-187.02 199.89,-197.47 206.03,-194.11\" stroke=\"black\"/>\n",
       "<text font-family=\"Times New Roman,serif\" font-size=\"14.00\" text-anchor=\"middle\" x=\"191.14\" y=\"-207.31\">True</text>\n",
       "</g>\n",
       "<!-- 4 -->\n",
       "<g class=\"node\" id=\"node5\">\n",
       "<title>4</title>\n",
       "<polygon fill=\"#7ebfee\" points=\"360,-187 250,-187 250,-104 360,-104 360,-187\" stroke=\"black\"/>\n",
       "<text font-family=\"Times New Roman,serif\" font-size=\"14.00\" text-anchor=\"middle\" x=\"305\" y=\"-171.8\">sex &lt;= 0.5</text>\n",
       "<text font-family=\"Times New Roman,serif\" font-size=\"14.00\" text-anchor=\"middle\" x=\"305\" y=\"-156.8\">entropy = 0.826</text>\n",
       "<text font-family=\"Times New Roman,serif\" font-size=\"14.00\" text-anchor=\"middle\" x=\"305\" y=\"-141.8\">samples = 81</text>\n",
       "<text font-family=\"Times New Roman,serif\" font-size=\"14.00\" text-anchor=\"middle\" x=\"305\" y=\"-126.8\">value = [21, 60]</text>\n",
       "<text font-family=\"Times New Roman,serif\" font-size=\"14.00\" text-anchor=\"middle\" x=\"305\" y=\"-111.8\">class = Survived</text>\n",
       "</g>\n",
       "<!-- 0&#45;&gt;4 -->\n",
       "<g class=\"edge\" id=\"edge4\">\n",
       "<title>0-&gt;4</title>\n",
       "<path d=\"M262.55,-222.91C267.39,-214.2 272.56,-204.9 277.56,-195.89\" fill=\"none\" stroke=\"black\"/>\n",
       "<polygon fill=\"black\" points=\"280.69,-197.46 282.49,-187.02 274.57,-194.06 280.69,-197.46\" stroke=\"black\"/>\n",
       "<text font-family=\"Times New Roman,serif\" font-size=\"14.00\" text-anchor=\"middle\" x=\"289.36\" y=\"-207.36\">False</text>\n",
       "</g>\n",
       "<!-- 2 -->\n",
       "<g class=\"node\" id=\"node3\">\n",
       "<title>2</title>\n",
       "<polygon fill=\"#ea975c\" points=\"106,-68 0,-68 0,0 106,0 106,-68\" stroke=\"black\"/>\n",
       "<text font-family=\"Times New Roman,serif\" font-size=\"14.00\" text-anchor=\"middle\" x=\"53\" y=\"-52.8\">entropy = 0.612</text>\n",
       "<text font-family=\"Times New Roman,serif\" font-size=\"14.00\" text-anchor=\"middle\" x=\"53\" y=\"-37.8\">samples = 53</text>\n",
       "<text font-family=\"Times New Roman,serif\" font-size=\"14.00\" text-anchor=\"middle\" x=\"53\" y=\"-22.8\">value = [45, 8]</text>\n",
       "<text font-family=\"Times New Roman,serif\" font-size=\"14.00\" text-anchor=\"middle\" x=\"53\" y=\"-7.8\">class = Died</text>\n",
       "</g>\n",
       "<!-- 1&#45;&gt;2 -->\n",
       "<g class=\"edge\" id=\"edge2\">\n",
       "<title>1-&gt;2</title>\n",
       "<path d=\"M130.2,-103.73C119.65,-94.33 108.43,-84.35 97.92,-74.99\" fill=\"none\" stroke=\"black\"/>\n",
       "<polygon fill=\"black\" points=\"100.2,-72.33 90.41,-68.3 95.55,-77.56 100.2,-72.33\" stroke=\"black\"/>\n",
       "</g>\n",
       "<!-- 3 -->\n",
       "<g class=\"node\" id=\"node4\">\n",
       "<title>3</title>\n",
       "<polygon fill=\"#f7d6bf\" points=\"230,-68 124,-68 124,0 230,0 230,-68\" stroke=\"black\"/>\n",
       "<text font-family=\"Times New Roman,serif\" font-size=\"14.00\" text-anchor=\"middle\" x=\"177\" y=\"-52.8\">entropy = 0.973</text>\n",
       "<text font-family=\"Times New Roman,serif\" font-size=\"14.00\" text-anchor=\"middle\" x=\"177\" y=\"-37.8\">samples = 104</text>\n",
       "<text font-family=\"Times New Roman,serif\" font-size=\"14.00\" text-anchor=\"middle\" x=\"177\" y=\"-22.8\">value = [62, 42]</text>\n",
       "<text font-family=\"Times New Roman,serif\" font-size=\"14.00\" text-anchor=\"middle\" x=\"177\" y=\"-7.8\">class = Died</text>\n",
       "</g>\n",
       "<!-- 1&#45;&gt;3 -->\n",
       "<g class=\"edge\" id=\"edge3\">\n",
       "<title>1-&gt;3</title>\n",
       "<path d=\"M176.37,-103.73C176.45,-95.52 176.53,-86.86 176.6,-78.56\" fill=\"none\" stroke=\"black\"/>\n",
       "<polygon fill=\"black\" points=\"180.1,-78.33 176.7,-68.3 173.1,-78.27 180.1,-78.33\" stroke=\"black\"/>\n",
       "</g>\n",
       "<!-- 5 -->\n",
       "<g class=\"node\" id=\"node6\">\n",
       "<title>5</title>\n",
       "<polygon fill=\"#b0d8f5\" points=\"359,-68 249,-68 249,0 359,0 359,-68\" stroke=\"black\"/>\n",
       "<text font-family=\"Times New Roman,serif\" font-size=\"14.00\" text-anchor=\"middle\" x=\"304\" y=\"-52.8\">entropy = 0.954</text>\n",
       "<text font-family=\"Times New Roman,serif\" font-size=\"14.00\" text-anchor=\"middle\" x=\"304\" y=\"-37.8\">samples = 16</text>\n",
       "<text font-family=\"Times New Roman,serif\" font-size=\"14.00\" text-anchor=\"middle\" x=\"304\" y=\"-22.8\">value = [6, 10]</text>\n",
       "<text font-family=\"Times New Roman,serif\" font-size=\"14.00\" text-anchor=\"middle\" x=\"304\" y=\"-7.8\">class = Survived</text>\n",
       "</g>\n",
       "<!-- 4&#45;&gt;5 -->\n",
       "<g class=\"edge\" id=\"edge5\">\n",
       "<title>4-&gt;5</title>\n",
       "<path d=\"M304.63,-103.73C304.55,-95.52 304.47,-86.86 304.4,-78.56\" fill=\"none\" stroke=\"black\"/>\n",
       "<polygon fill=\"black\" points=\"307.9,-78.27 304.3,-68.3 300.9,-78.33 307.9,-78.27\" stroke=\"black\"/>\n",
       "</g>\n",
       "<!-- 6 -->\n",
       "<g class=\"node\" id=\"node7\">\n",
       "<title>6</title>\n",
       "<polygon fill=\"#74baed\" points=\"487,-68 377,-68 377,0 487,0 487,-68\" stroke=\"black\"/>\n",
       "<text font-family=\"Times New Roman,serif\" font-size=\"14.00\" text-anchor=\"middle\" x=\"432\" y=\"-52.8\">entropy = 0.779</text>\n",
       "<text font-family=\"Times New Roman,serif\" font-size=\"14.00\" text-anchor=\"middle\" x=\"432\" y=\"-37.8\">samples = 65</text>\n",
       "<text font-family=\"Times New Roman,serif\" font-size=\"14.00\" text-anchor=\"middle\" x=\"432\" y=\"-22.8\">value = [15, 50]</text>\n",
       "<text font-family=\"Times New Roman,serif\" font-size=\"14.00\" text-anchor=\"middle\" x=\"432\" y=\"-7.8\">class = Survived</text>\n",
       "</g>\n",
       "<!-- 4&#45;&gt;6 -->\n",
       "<g class=\"edge\" id=\"edge6\">\n",
       "<title>4-&gt;6</title>\n",
       "<path d=\"M352.29,-103.73C363.19,-94.33 374.76,-84.35 385.62,-74.99\" fill=\"none\" stroke=\"black\"/>\n",
       "<polygon fill=\"black\" points=\"388.09,-77.48 393.38,-68.3 383.52,-72.18 388.09,-77.48\" stroke=\"black\"/>\n",
       "</g>\n",
       "</g>\n",
       "</svg>"
      ],
      "text/plain": [
       "<IPython.core.display.SVG object>"
      ]
     },
     "metadata": {},
     "output_type": "display_data"
    }
   ],
   "source": [
    "clf.fit(X,y)\n",
    "graph = Source(tree.export_graphviz(clf, out_file=None, feature_names=list(X)\n",
    "                                    , class_names=['Died', 'Survived']\n",
    "                                    , filled=True))\n",
    "display(SVG(graph.pipe(format='svg')))"
   ]
  },
  {
   "cell_type": "code",
   "execution_count": 213,
   "id": "better-conference",
   "metadata": {},
   "outputs": [
    {
     "data": {
      "text/plain": [
       "0.119"
      ]
     },
     "execution_count": 213,
     "metadata": {},
     "output_type": "execute_result"
    }
   ],
   "source": [
    "# from the tree\n",
    "np.round(0.996 - (157/238)*0.903 - (81/238)*0.826, 3)"
   ]
  },
  {
   "cell_type": "code",
   "execution_count": 205,
   "id": "following-lawrence",
   "metadata": {},
   "outputs": [],
   "source": [
    "parent_node = np.round(-(128/238)*np.log2((128/238)) - (110/238)*np.log2((110/238)), 3)"
   ]
  },
  {
   "cell_type": "code",
   "execution_count": 206,
   "id": "flying-lotus",
   "metadata": {},
   "outputs": [
    {
     "data": {
      "text/plain": [
       "0.996"
      ]
     },
     "execution_count": 206,
     "metadata": {},
     "output_type": "execute_result"
    }
   ],
   "source": [
    "parent_node"
   ]
  },
  {
   "cell_type": "code",
   "execution_count": 207,
   "id": "nervous-action",
   "metadata": {},
   "outputs": [],
   "source": [
    "e1 = np.round(-(107/157)*np.log2((107/157)) - (50/157)*np.log2((50/157)), 3)"
   ]
  },
  {
   "cell_type": "code",
   "execution_count": 209,
   "id": "weekly-verification",
   "metadata": {},
   "outputs": [],
   "source": [
    "e2 = np.round(-(21/81)*np.log2((21/81)) - (60/81)*np.log2((60/81)), 3)"
   ]
  },
  {
   "cell_type": "code",
   "execution_count": 208,
   "id": "collected-drove",
   "metadata": {},
   "outputs": [
    {
     "data": {
      "text/plain": [
       "0.903"
      ]
     },
     "execution_count": 208,
     "metadata": {},
     "output_type": "execute_result"
    }
   ],
   "source": [
    "e1"
   ]
  },
  {
   "cell_type": "code",
   "execution_count": 210,
   "id": "spatial-switch",
   "metadata": {},
   "outputs": [
    {
     "data": {
      "text/plain": [
       "0.826"
      ]
     },
     "execution_count": 210,
     "metadata": {},
     "output_type": "execute_result"
    }
   ],
   "source": [
    "e2"
   ]
  },
  {
   "cell_type": "code",
   "execution_count": 211,
   "id": "naval-durham",
   "metadata": {},
   "outputs": [
    {
     "data": {
      "text/plain": [
       "0.119"
      ]
     },
     "execution_count": 211,
     "metadata": {},
     "output_type": "execute_result"
    }
   ],
   "source": [
    "np.round(parent_node - (157/238)*e1 - (81/238)*e2, 3)"
   ]
  },
  {
   "cell_type": "markdown",
   "id": "solved-divorce",
   "metadata": {},
   "source": [
    "## Iris"
   ]
  },
  {
   "cell_type": "code",
   "execution_count": 215,
   "id": "multiple-trail",
   "metadata": {},
   "outputs": [],
   "source": [
    "iris = load_iris()"
   ]
  },
  {
   "cell_type": "code",
   "execution_count": 216,
   "id": "closed-cross",
   "metadata": {},
   "outputs": [],
   "source": [
    "X = iris.data\n",
    "y = iris.target"
   ]
  },
  {
   "cell_type": "code",
   "execution_count": 220,
   "id": "impressed-colombia",
   "metadata": {},
   "outputs": [],
   "source": [
    "X_train, X_test, y_train, y_test = train_test_split(X, y, train_size = 0.75)\n",
    "dt = DecisionTreeClassifier()\n",
    "dt.fit(X_train, y_train)\n",
    "predicted = dt.predict(X_test)"
   ]
  },
  {
   "cell_type": "code",
   "execution_count": 224,
   "id": "lasting-finger",
   "metadata": {},
   "outputs": [
    {
     "data": {
      "text/plain": [
       "(38,)"
      ]
     },
     "execution_count": 224,
     "metadata": {},
     "output_type": "execute_result"
    }
   ],
   "source": [
    "predicted.shape"
   ]
  },
  {
   "cell_type": "code",
   "execution_count": 227,
   "id": "becoming-gambling",
   "metadata": {},
   "outputs": [],
   "source": [
    "precision = precision_score(y_test, predicted, average = 'micro')"
   ]
  },
  {
   "cell_type": "code",
   "execution_count": 231,
   "id": "freelance-lunch",
   "metadata": {},
   "outputs": [
    {
     "data": {
      "text/plain": [
       "0.9473684210526315"
      ]
     },
     "execution_count": 231,
     "metadata": {},
     "output_type": "execute_result"
    }
   ],
   "source": [
    "precision"
   ]
  },
  {
   "cell_type": "code",
   "execution_count": 233,
   "id": "affiliated-exclusive",
   "metadata": {},
   "outputs": [],
   "source": [
    "recall = recall_score(y_test, predicted, average = 'micro')"
   ]
  },
  {
   "cell_type": "code",
   "execution_count": 234,
   "id": "viral-annual",
   "metadata": {},
   "outputs": [
    {
     "data": {
      "text/plain": [
       "0.9473684210526315"
      ]
     },
     "execution_count": 234,
     "metadata": {},
     "output_type": "execute_result"
    }
   ],
   "source": [
    "recall"
   ]
  },
  {
   "cell_type": "code",
   "execution_count": 249,
   "id": "fleet-basic",
   "metadata": {},
   "outputs": [],
   "source": [
    "#search = GridSearchCV(dt, {'max_depth':range(1,10),'min_samples_split':range(2,10), 'min_samples_leaf':range(1,10)})\n",
    "search = RandomizedSearchCV(dt, {'max_depth':range(1,10),'min_samples_split':range(2,10), 'min_samples_leaf':range(1,10)})"
   ]
  },
  {
   "cell_type": "code",
   "execution_count": 250,
   "id": "hundred-seating",
   "metadata": {},
   "outputs": [
    {
     "data": {
      "text/plain": [
       "RandomizedSearchCV(estimator=DecisionTreeClassifier(),\n",
       "                   param_distributions={'max_depth': range(1, 10),\n",
       "                                        'min_samples_leaf': range(1, 10),\n",
       "                                        'min_samples_split': range(2, 10)})"
      ]
     },
     "execution_count": 250,
     "metadata": {},
     "output_type": "execute_result"
    }
   ],
   "source": [
    "search.fit(X,y)"
   ]
  },
  {
   "cell_type": "code",
   "execution_count": 251,
   "id": "systematic-dressing",
   "metadata": {},
   "outputs": [],
   "source": [
    "best_tree = search.best_estimator_"
   ]
  },
  {
   "cell_type": "code",
   "execution_count": 252,
   "id": "absolute-style",
   "metadata": {},
   "outputs": [
    {
     "data": {
      "text/plain": [
       "DecisionTreeClassifier(max_depth=4, min_samples_split=3)"
      ]
     },
     "execution_count": 252,
     "metadata": {},
     "output_type": "execute_result"
    }
   ],
   "source": [
    "best_tree"
   ]
  }
 ],
 "metadata": {
  "kernelspec": {
   "display_name": "Python 3",
   "language": "python",
   "name": "python3"
  },
  "language_info": {
   "codemirror_mode": {
    "name": "ipython",
    "version": 3
   },
   "file_extension": ".py",
   "mimetype": "text/x-python",
   "name": "python",
   "nbconvert_exporter": "python",
   "pygments_lexer": "ipython3",
   "version": "3.7.9"
  }
 },
 "nbformat": 4,
 "nbformat_minor": 5
}
